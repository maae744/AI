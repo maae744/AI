{
 "cells": [
  {
   "cell_type": "code",
   "execution_count": 1,
   "id": "4f08b033-8142-4e4e-9f4b-b30b7fc6e6a4",
   "metadata": {},
   "outputs": [],
   "source": [
    "import matplotlib.pyplot as plt\n",
    "\n",
    "from sklearn import datasets, metrics\n",
    "from sklearn.model_selection import train_test_split\n",
    "\n",
    "digits = datasets.load_digits()\n",
    "n_samples = len(digits.images)\n",
    "data = digits.images.reshape((n_samples, -1))\n",
    "\n",
    "from sklearn.neighbors import KNeighborsClassifier\n",
    "knn = KNeighborsClassifier(n_neighbors=6)\n",
    "\n",
    "X_train, X_test, y_train, y_test = train_test_split(\n",
    "    data, digits.target, test_size=0.2)"
   ]
  },
  {
   "cell_type": "code",
   "execution_count": 2,
   "id": "1b7b88d0-2b28-4290-8dbb-e3a424027f0b",
   "metadata": {},
   "outputs": [],
   "source": [
    "from sklearn.linear_model import LogisticRegression\n",
    "from sklearn.svm import SVC\n",
    "from sklearn.neural_network import MLPClassifier\n",
    "from sklearn.tree import DecisionTreeClassifier\n",
    "from sklearn.ensemble import RandomForestClassifier\n",
    "\n",
    "from sklearn.metrics import accuracy_score\n",
    "from sklearn.metrics import confusion_matrix"
   ]
  },
  {
   "cell_type": "code",
   "execution_count": 3,
   "id": "df3a7a61-bdc1-42e0-9746-e80a49d0de11",
   "metadata": {},
   "outputs": [
    {
     "name": "stdout",
     "output_type": "stream",
     "text": [
      "\n",
      "--- Decision Tree Classifier ---\n",
      "0.8444444444444444\n",
      "[[31  0  0  0  0  1  1  0  2  0]\n",
      " [ 0 31  0  0  0  0  0  0  5  2]\n",
      " [ 0  2 27  2  0  0  0  0  0  1]\n",
      " [ 0  0  1 22  0  0  1  0  0  1]\n",
      " [ 0  1  0  1 26  0  1  1  0  1]\n",
      " [ 0  0  1  0  2 34  0  0  2  1]\n",
      " [ 0  0  0  0  0  0 36  0  2  0]\n",
      " [ 0  1  0  1  0  1  2 35  1  0]\n",
      " [ 0  3  1  1  0  4  0  1 31  3]\n",
      " [ 0  0  0  1  0  0  0  0  4 31]]\n"
     ]
    }
   ],
   "source": [
    "\n",
    "clf_dt = DecisionTreeClassifier(random_state=0)\n",
    "clf_dt.fit(X_train, y_train)\n",
    "\n",
    "pred_dt = clf_dt.predict(X_test)\n",
    "\n",
    "print (\"\\n--- Decision Tree Classifier ---\")\n",
    "print (accuracy_score(y_test, pred_dt))\n",
    "print (confusion_matrix(y_test, pred_dt))"
   ]
  },
  {
   "cell_type": "code",
   "execution_count": 4,
   "id": "c7bd2014-fb72-45d6-925e-26b56a7a6174",
   "metadata": {},
   "outputs": [
    {
     "name": "stdout",
     "output_type": "stream",
     "text": [
      "\n",
      "--- Logistic Regression Classifier ---\n",
      "0.9583333333333334\n",
      "[[34  0  0  0  0  0  1  0  0  0]\n",
      " [ 0 38  0  0  0  0  0  0  0  0]\n",
      " [ 0  0 32  0  0  0  0  0  0  0]\n",
      " [ 0  0  0 24  0  1  0  0  0  0]\n",
      " [ 0  0  0  0 30  0  0  1  0  0]\n",
      " [ 0  0  1  1  0 38  0  0  0  0]\n",
      " [ 0  0  0  0  0  0 37  0  1  0]\n",
      " [ 0  0  0  0  1  0  0 40  0  0]\n",
      " [ 0  1  1  0  0  2  0  0 39  1]\n",
      " [ 0  0  0  2  0  0  0  0  1 33]]\n"
     ]
    },
    {
     "name": "stderr",
     "output_type": "stream",
     "text": [
      "C:\\Users\\User\\anaconda3\\Lib\\site-packages\\sklearn\\linear_model\\_logistic.py:458: ConvergenceWarning: lbfgs failed to converge (status=1):\n",
      "STOP: TOTAL NO. of ITERATIONS REACHED LIMIT.\n",
      "\n",
      "Increase the number of iterations (max_iter) or scale the data as shown in:\n",
      "    https://scikit-learn.org/stable/modules/preprocessing.html\n",
      "Please also refer to the documentation for alternative solver options:\n",
      "    https://scikit-learn.org/stable/modules/linear_model.html#logistic-regression\n",
      "  n_iter_i = _check_optimize_result(\n"
     ]
    }
   ],
   "source": [
    "# Build a logistic regression classifier and predict\n",
    "\n",
    "clf_lr = LogisticRegression(random_state=0)\n",
    "clf_lr.fit(X_train, y_train)\n",
    "\n",
    "pred_lr = clf_lr.predict(X_test)\n",
    "\n",
    "print (\"\\n--- Logistic Regression Classifier ---\")\n",
    "print (accuracy_score(y_test, pred_lr))\n",
    "print (confusion_matrix(y_test, pred_lr))"
   ]
  },
  {
   "cell_type": "code",
   "execution_count": 5,
   "id": "4bda3853-8fbe-4fd2-975f-a46bab5ec980",
   "metadata": {},
   "outputs": [
    {
     "name": "stdout",
     "output_type": "stream",
     "text": [
      "\n",
      "--- Radom Forest ---\n",
      "0.9694444444444444\n",
      "[[34  0  0  0  1  0  0  0  0  0]\n",
      " [ 0 38  0  0  0  0  0  0  0  0]\n",
      " [ 0  0 32  0  0  0  0  0  0  0]\n",
      " [ 0  0  0 25  0  0  0  0  0  0]\n",
      " [ 0  0  0  0 30  0  0  1  0  0]\n",
      " [ 0  0  0  0  1 39  0  0  0  0]\n",
      " [ 0  0  0  0  0  0 37  0  1  0]\n",
      " [ 0  0  0  0  0  0  0 41  0  0]\n",
      " [ 0  1  0  2  0  0  0  1 40  0]\n",
      " [ 0  0  0  0  1  1  0  0  1 33]]\n"
     ]
    }
   ],
   "source": [
    "import warnings\n",
    "warnings.filterwarnings('ignore')\n",
    "\n",
    "print (\"\\n--- Radom Forest ---\")\n",
    "rf_clf = RandomForestClassifier(random_state=0)\n",
    "rf_clf.fit(X_train, y_train)\n",
    "pred = rf_clf.predict(X_test)\n",
    "print(accuracy_score(y_test,pred))\n",
    "print (confusion_matrix(y_test, pred))"
   ]
  },
  {
   "cell_type": "code",
   "execution_count": 6,
   "id": "b6750d86-2b73-41c9-a156-3488310904d4",
   "metadata": {},
   "outputs": [
    {
     "name": "stdout",
     "output_type": "stream",
     "text": [
      "\n",
      "--- K-Nearest Neighbors (KNN) Classifier ---\n",
      "Accuracy: 0.9777777777777777\n",
      "Confusion Matrix:\n",
      "[[34  0  0  0  1  0  0  0  0  0]\n",
      " [ 0 38  0  0  0  0  0  0  0  0]\n",
      " [ 0  0 32  0  0  0  0  0  0  0]\n",
      " [ 0  0  0 25  0  0  0  0  0  0]\n",
      " [ 0  0  0  0 30  0  0  1  0  0]\n",
      " [ 0  0  0  0  0 40  0  0  0  0]\n",
      " [ 0  1  0  0  0  0 37  0  0  0]\n",
      " [ 0  0  0  0  0  0  0 41  0  0]\n",
      " [ 0  1  0  1  0  0  0  0 42  0]\n",
      " [ 0  0  0  0  1  1  0  0  1 33]]\n"
     ]
    }
   ],
   "source": [
    "from sklearn.neighbors import KNeighborsClassifier\n",
    "\n",
    "# 대충 k값 5\n",
    "clf_knn = KNeighborsClassifier(n_neighbors=5)  # You can adjust the number of neighbors (k) as needed\n",
    "clf_knn.fit(X_train, y_train)\n",
    "\n",
    "pred_knn = clf_knn.predict(X_test)\n",
    "\n",
    "print(\"\\n--- K-Nearest Neighbors (KNN) Classifier ---\")\n",
    "print(\"Accuracy:\", accuracy_score(y_test, pred_knn))\n",
    "print(\"Confusion Matrix:\")\n",
    "print(confusion_matrix(y_test, pred_knn))"
   ]
  },
  {
   "cell_type": "code",
   "execution_count": null,
   "id": "ba42246c-077e-47d2-8aba-14d6b1f2f307",
   "metadata": {},
   "outputs": [],
   "source": []
  }
 ],
 "metadata": {
  "kernelspec": {
   "display_name": "Python 3 (ipykernel)",
   "language": "python",
   "name": "python3"
  },
  "language_info": {
   "codemirror_mode": {
    "name": "ipython",
    "version": 3
   },
   "file_extension": ".py",
   "mimetype": "text/x-python",
   "name": "python",
   "nbconvert_exporter": "python",
   "pygments_lexer": "ipython3",
   "version": "3.11.7"
  }
 },
 "nbformat": 4,
 "nbformat_minor": 5
}
